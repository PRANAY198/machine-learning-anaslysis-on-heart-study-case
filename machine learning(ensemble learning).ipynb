{
 "cells": [
  {
   "cell_type": "code",
   "execution_count": 1,
   "id": "9bb05647",
   "metadata": {},
   "outputs": [],
   "source": [
    "import pandas as pd\n",
    "import numpy as np\n",
    "import seaborn as sns\n",
    "import matplotlib.pyplot as plt"
   ]
  },
  {
   "cell_type": "code",
   "execution_count": 2,
   "id": "122faf9c",
   "metadata": {},
   "outputs": [],
   "source": [
    "df=pd.read_csv(r\"C:\\Users\\PRANAY\\Documents\\FULL STACK DATA SCIENCE jigsaw document\\machine learning\\heart.csv\")"
   ]
  },
  {
   "cell_type": "code",
   "execution_count": 3,
   "id": "5ddce5d6",
   "metadata": {},
   "outputs": [
    {
     "data": {
      "text/html": [
       "<div>\n",
       "<style scoped>\n",
       "    .dataframe tbody tr th:only-of-type {\n",
       "        vertical-align: middle;\n",
       "    }\n",
       "\n",
       "    .dataframe tbody tr th {\n",
       "        vertical-align: top;\n",
       "    }\n",
       "\n",
       "    .dataframe thead th {\n",
       "        text-align: right;\n",
       "    }\n",
       "</style>\n",
       "<table border=\"1\" class=\"dataframe\">\n",
       "  <thead>\n",
       "    <tr style=\"text-align: right;\">\n",
       "      <th></th>\n",
       "      <th>age</th>\n",
       "      <th>sex</th>\n",
       "      <th>cp</th>\n",
       "      <th>trtbps</th>\n",
       "      <th>chol</th>\n",
       "      <th>fbs</th>\n",
       "      <th>restecg</th>\n",
       "      <th>thalachh</th>\n",
       "      <th>exng</th>\n",
       "      <th>oldpeak</th>\n",
       "      <th>slp</th>\n",
       "      <th>caa</th>\n",
       "      <th>thall</th>\n",
       "      <th>output</th>\n",
       "    </tr>\n",
       "  </thead>\n",
       "  <tbody>\n",
       "    <tr>\n",
       "      <th>0</th>\n",
       "      <td>63</td>\n",
       "      <td>1</td>\n",
       "      <td>3</td>\n",
       "      <td>145</td>\n",
       "      <td>233</td>\n",
       "      <td>1</td>\n",
       "      <td>0</td>\n",
       "      <td>150</td>\n",
       "      <td>0</td>\n",
       "      <td>2.3</td>\n",
       "      <td>0</td>\n",
       "      <td>0</td>\n",
       "      <td>1</td>\n",
       "      <td>1</td>\n",
       "    </tr>\n",
       "    <tr>\n",
       "      <th>1</th>\n",
       "      <td>37</td>\n",
       "      <td>1</td>\n",
       "      <td>2</td>\n",
       "      <td>130</td>\n",
       "      <td>250</td>\n",
       "      <td>0</td>\n",
       "      <td>1</td>\n",
       "      <td>187</td>\n",
       "      <td>0</td>\n",
       "      <td>3.5</td>\n",
       "      <td>0</td>\n",
       "      <td>0</td>\n",
       "      <td>2</td>\n",
       "      <td>1</td>\n",
       "    </tr>\n",
       "    <tr>\n",
       "      <th>2</th>\n",
       "      <td>41</td>\n",
       "      <td>0</td>\n",
       "      <td>1</td>\n",
       "      <td>130</td>\n",
       "      <td>204</td>\n",
       "      <td>0</td>\n",
       "      <td>0</td>\n",
       "      <td>172</td>\n",
       "      <td>0</td>\n",
       "      <td>1.4</td>\n",
       "      <td>2</td>\n",
       "      <td>0</td>\n",
       "      <td>2</td>\n",
       "      <td>1</td>\n",
       "    </tr>\n",
       "    <tr>\n",
       "      <th>3</th>\n",
       "      <td>56</td>\n",
       "      <td>1</td>\n",
       "      <td>1</td>\n",
       "      <td>120</td>\n",
       "      <td>236</td>\n",
       "      <td>0</td>\n",
       "      <td>1</td>\n",
       "      <td>178</td>\n",
       "      <td>0</td>\n",
       "      <td>0.8</td>\n",
       "      <td>2</td>\n",
       "      <td>0</td>\n",
       "      <td>2</td>\n",
       "      <td>1</td>\n",
       "    </tr>\n",
       "    <tr>\n",
       "      <th>4</th>\n",
       "      <td>57</td>\n",
       "      <td>0</td>\n",
       "      <td>0</td>\n",
       "      <td>120</td>\n",
       "      <td>354</td>\n",
       "      <td>0</td>\n",
       "      <td>1</td>\n",
       "      <td>163</td>\n",
       "      <td>1</td>\n",
       "      <td>0.6</td>\n",
       "      <td>2</td>\n",
       "      <td>0</td>\n",
       "      <td>2</td>\n",
       "      <td>1</td>\n",
       "    </tr>\n",
       "  </tbody>\n",
       "</table>\n",
       "</div>"
      ],
      "text/plain": [
       "   age  sex  cp  trtbps  chol  fbs  restecg  thalachh  exng  oldpeak  slp  \\\n",
       "0   63    1   3     145   233    1        0       150     0      2.3    0   \n",
       "1   37    1   2     130   250    0        1       187     0      3.5    0   \n",
       "2   41    0   1     130   204    0        0       172     0      1.4    2   \n",
       "3   56    1   1     120   236    0        1       178     0      0.8    2   \n",
       "4   57    0   0     120   354    0        1       163     1      0.6    2   \n",
       "\n",
       "   caa  thall  output  \n",
       "0    0      1       1  \n",
       "1    0      2       1  \n",
       "2    0      2       1  \n",
       "3    0      2       1  \n",
       "4    0      2       1  "
      ]
     },
     "execution_count": 3,
     "metadata": {},
     "output_type": "execute_result"
    }
   ],
   "source": [
    "df.head()"
   ]
  },
  {
   "cell_type": "code",
   "execution_count": 4,
   "id": "e9994cda",
   "metadata": {},
   "outputs": [
    {
     "name": "stdout",
     "output_type": "stream",
     "text": [
      "<class 'pandas.core.frame.DataFrame'>\n",
      "RangeIndex: 303 entries, 0 to 302\n",
      "Data columns (total 14 columns):\n",
      " #   Column    Non-Null Count  Dtype  \n",
      "---  ------    --------------  -----  \n",
      " 0   age       303 non-null    int64  \n",
      " 1   sex       303 non-null    int64  \n",
      " 2   cp        303 non-null    int64  \n",
      " 3   trtbps    303 non-null    int64  \n",
      " 4   chol      303 non-null    int64  \n",
      " 5   fbs       303 non-null    int64  \n",
      " 6   restecg   303 non-null    int64  \n",
      " 7   thalachh  303 non-null    int64  \n",
      " 8   exng      303 non-null    int64  \n",
      " 9   oldpeak   303 non-null    float64\n",
      " 10  slp       303 non-null    int64  \n",
      " 11  caa       303 non-null    int64  \n",
      " 12  thall     303 non-null    int64  \n",
      " 13  output    303 non-null    int64  \n",
      "dtypes: float64(1), int64(13)\n",
      "memory usage: 33.3 KB\n"
     ]
    }
   ],
   "source": [
    "df.info()"
   ]
  },
  {
   "cell_type": "code",
   "execution_count": 5,
   "id": "1dac0d75",
   "metadata": {},
   "outputs": [
    {
     "data": {
      "text/plain": [
       "age          41\n",
       "sex           2\n",
       "cp            4\n",
       "trtbps       49\n",
       "chol        152\n",
       "fbs           2\n",
       "restecg       3\n",
       "thalachh     91\n",
       "exng          2\n",
       "oldpeak      40\n",
       "slp           3\n",
       "caa           5\n",
       "thall         4\n",
       "output        2\n",
       "dtype: int64"
      ]
     },
     "execution_count": 5,
     "metadata": {},
     "output_type": "execute_result"
    }
   ],
   "source": [
    "df.nunique()"
   ]
  },
  {
   "cell_type": "code",
   "execution_count": 6,
   "id": "5aa06476",
   "metadata": {},
   "outputs": [],
   "source": [
    "numeric_var=['age','trtbps','chol','thalachh','oldpeak']\n",
    "categorical_var=['sex','cp','fbs','restecg','exng','slp','caa','thall','output']"
   ]
  },
  {
   "cell_type": "code",
   "execution_count": 7,
   "id": "bba3c823",
   "metadata": {},
   "outputs": [
    {
     "data": {
      "text/html": [
       "<div>\n",
       "<style scoped>\n",
       "    .dataframe tbody tr th:only-of-type {\n",
       "        vertical-align: middle;\n",
       "    }\n",
       "\n",
       "    .dataframe tbody tr th {\n",
       "        vertical-align: top;\n",
       "    }\n",
       "\n",
       "    .dataframe thead th {\n",
       "        text-align: right;\n",
       "    }\n",
       "</style>\n",
       "<table border=\"1\" class=\"dataframe\">\n",
       "  <thead>\n",
       "    <tr style=\"text-align: right;\">\n",
       "      <th></th>\n",
       "      <th>age</th>\n",
       "      <th>trtbps</th>\n",
       "      <th>chol</th>\n",
       "      <th>thalachh</th>\n",
       "      <th>oldpeak</th>\n",
       "    </tr>\n",
       "  </thead>\n",
       "  <tbody>\n",
       "    <tr>\n",
       "      <th>count</th>\n",
       "      <td>303.000000</td>\n",
       "      <td>303.000000</td>\n",
       "      <td>303.000000</td>\n",
       "      <td>303.000000</td>\n",
       "      <td>303.000000</td>\n",
       "    </tr>\n",
       "    <tr>\n",
       "      <th>mean</th>\n",
       "      <td>54.366337</td>\n",
       "      <td>131.623762</td>\n",
       "      <td>246.264026</td>\n",
       "      <td>149.646865</td>\n",
       "      <td>1.039604</td>\n",
       "    </tr>\n",
       "    <tr>\n",
       "      <th>std</th>\n",
       "      <td>9.082101</td>\n",
       "      <td>17.538143</td>\n",
       "      <td>51.830751</td>\n",
       "      <td>22.905161</td>\n",
       "      <td>1.161075</td>\n",
       "    </tr>\n",
       "    <tr>\n",
       "      <th>min</th>\n",
       "      <td>29.000000</td>\n",
       "      <td>94.000000</td>\n",
       "      <td>126.000000</td>\n",
       "      <td>71.000000</td>\n",
       "      <td>0.000000</td>\n",
       "    </tr>\n",
       "    <tr>\n",
       "      <th>25%</th>\n",
       "      <td>47.500000</td>\n",
       "      <td>120.000000</td>\n",
       "      <td>211.000000</td>\n",
       "      <td>133.500000</td>\n",
       "      <td>0.000000</td>\n",
       "    </tr>\n",
       "    <tr>\n",
       "      <th>50%</th>\n",
       "      <td>55.000000</td>\n",
       "      <td>130.000000</td>\n",
       "      <td>240.000000</td>\n",
       "      <td>153.000000</td>\n",
       "      <td>0.800000</td>\n",
       "    </tr>\n",
       "    <tr>\n",
       "      <th>75%</th>\n",
       "      <td>61.000000</td>\n",
       "      <td>140.000000</td>\n",
       "      <td>274.500000</td>\n",
       "      <td>166.000000</td>\n",
       "      <td>1.600000</td>\n",
       "    </tr>\n",
       "    <tr>\n",
       "      <th>max</th>\n",
       "      <td>77.000000</td>\n",
       "      <td>200.000000</td>\n",
       "      <td>564.000000</td>\n",
       "      <td>202.000000</td>\n",
       "      <td>6.200000</td>\n",
       "    </tr>\n",
       "  </tbody>\n",
       "</table>\n",
       "</div>"
      ],
      "text/plain": [
       "              age      trtbps        chol    thalachh     oldpeak\n",
       "count  303.000000  303.000000  303.000000  303.000000  303.000000\n",
       "mean    54.366337  131.623762  246.264026  149.646865    1.039604\n",
       "std      9.082101   17.538143   51.830751   22.905161    1.161075\n",
       "min     29.000000   94.000000  126.000000   71.000000    0.000000\n",
       "25%     47.500000  120.000000  211.000000  133.500000    0.000000\n",
       "50%     55.000000  130.000000  240.000000  153.000000    0.800000\n",
       "75%     61.000000  140.000000  274.500000  166.000000    1.600000\n",
       "max     77.000000  200.000000  564.000000  202.000000    6.200000"
      ]
     },
     "execution_count": 7,
     "metadata": {},
     "output_type": "execute_result"
    }
   ],
   "source": [
    "df[numeric_var].describe()"
   ]
  },
  {
   "cell_type": "code",
   "execution_count": 8,
   "id": "eebf9a8e",
   "metadata": {},
   "outputs": [
    {
     "name": "stderr",
     "output_type": "stream",
     "text": [
      "C:\\ProgramData\\Anaconda3\\lib\\site-packages\\seaborn\\distributions.py:2619: FutureWarning: `distplot` is a deprecated function and will be removed in a future version. Please adapt your code to use either `displot` (a figure-level function with similar flexibility) or `histplot` (an axes-level function for histograms).\n",
      "  warnings.warn(msg, FutureWarning)\n"
     ]
    },
    {
     "data": {
      "text/plain": [
       "<AxesSubplot:xlabel='age', ylabel='Density'>"
      ]
     },
     "execution_count": 8,
     "metadata": {},
     "output_type": "execute_result"
    },
    {
     "data": {
      "image/png": "[encoded data removed]",
      "text/plain": [
       "<Figure size 432x288 with 1 Axes>"
      ]
     },
     "metadata": {
      "needs_background": "light"
     },
     "output_type": "display_data"
    }
   ],
   "source": [
    "sns.distplot(df['age'])"
   ]
  },
  {
   "cell_type": "code",
   "execution_count": 9,
   "id": "fa793c6a",
   "metadata": {},
   "outputs": [
    {
     "name": "stderr",
     "output_type": "stream",
     "text": [
      "C:\\ProgramData\\Anaconda3\\lib\\site-packages\\seaborn\\distributions.py:2619: FutureWarning: `distplot` is a deprecated function and will be removed in a future version. Please adapt your code to use either `displot` (a figure-level function with similar flexibility) or `histplot` (an axes-level function for histograms).\n",
      "  warnings.warn(msg, FutureWarning)\n"
     ]
    },
    {
     "data": {
      "text/plain": [
       "<AxesSubplot:xlabel='trtbps', ylabel='Density'>"
      ]
     },
     "execution_count": 9,
     "metadata": {},
     "output_type": "execute_result"
    },
    {
     "data": {
      "image/png": "[encoded data removed]",
      "text/plain": [
       "<Figure size 432x288 with 1 Axes>"
      ]
     },
     "metadata": {
      "needs_background": "light"
     },
     "output_type": "display_data"
    }
   ],
   "source": [
    "sns.distplot(df['trtbps'])"
   ]
  },
  {
   "cell_type": "markdown",
   "id": "666bb1ce",
   "metadata": {},
   "source": [
    "# feature scaling"
   ]
  },
  {
   "cell_type": "code",
   "execution_count": 10,
   "id": "2249c28a",
   "metadata": {},
   "outputs": [],
   "source": [
    "from sklearn.preprocessing import RobustScaler"
   ]
  },
  {
   "cell_type": "code",
   "execution_count": 11,
   "id": "950ff83f",
   "metadata": {},
   "outputs": [],
   "source": [
    "robust_scaler=RobustScaler()"
   ]
  },
  {
   "cell_type": "code",
   "execution_count": 12,
   "id": "274affba",
   "metadata": {},
   "outputs": [],
   "source": [
    "scaler_data=robust_scaler.fit_transform(df[numeric_var])"
   ]
  },
  {
   "cell_type": "code",
   "execution_count": 13,
   "id": "e037b69b",
   "metadata": {},
   "outputs": [
    {
     "data": {
      "text/plain": [
       "array([[ 0.59259259,  0.75      , -0.11023622, -0.09230769,  0.9375    ],\n",
       "       [-1.33333333,  0.        ,  0.15748031,  1.04615385,  1.6875    ],\n",
       "       [-1.03703704,  0.        , -0.56692913,  0.58461538,  0.375     ],\n",
       "       ...,\n",
       "       [ 0.96296296,  0.7       , -0.74015748, -0.36923077,  1.625     ],\n",
       "       [ 0.14814815,  0.        , -1.71653543, -1.16923077,  0.25      ],\n",
       "       [ 0.14814815,  0.        , -0.06299213,  0.64615385, -0.5       ]])"
      ]
     },
     "execution_count": 13,
     "metadata": {},
     "output_type": "execute_result"
    }
   ],
   "source": [
    "scaler_data"
   ]
  },
  {
   "cell_type": "code",
   "execution_count": 14,
   "id": "0aea169d",
   "metadata": {},
   "outputs": [
    {
     "data": {
      "text/plain": [
       "numpy.ndarray"
      ]
     },
     "execution_count": 14,
     "metadata": {},
     "output_type": "execute_result"
    }
   ],
   "source": [
    "type(scaler_data)"
   ]
  },
  {
   "cell_type": "code",
   "execution_count": 15,
   "id": "8dd48c23",
   "metadata": {},
   "outputs": [],
   "source": [
    "# scaling help to regulization of the data"
   ]
  },
  {
   "cell_type": "code",
   "execution_count": 16,
   "id": "69b9260b",
   "metadata": {},
   "outputs": [],
   "source": [
    "data_scaled=pd.DataFrame(scaler_data,columns=numeric_var)"
   ]
  },
  {
   "cell_type": "code",
   "execution_count": 17,
   "id": "cb520925",
   "metadata": {},
   "outputs": [
    {
     "data": {
      "text/html": [
       "<div>\n",
       "<style scoped>\n",
       "    .dataframe tbody tr th:only-of-type {\n",
       "        vertical-align: middle;\n",
       "    }\n",
       "\n",
       "    .dataframe tbody tr th {\n",
       "        vertical-align: top;\n",
       "    }\n",
       "\n",
       "    .dataframe thead th {\n",
       "        text-align: right;\n",
       "    }\n",
       "</style>\n",
       "<table border=\"1\" class=\"dataframe\">\n",
       "  <thead>\n",
       "    <tr style=\"text-align: right;\">\n",
       "      <th></th>\n",
       "      <th>age</th>\n",
       "      <th>trtbps</th>\n",
       "      <th>chol</th>\n",
       "      <th>thalachh</th>\n",
       "      <th>oldpeak</th>\n",
       "    </tr>\n",
       "  </thead>\n",
       "  <tbody>\n",
       "    <tr>\n",
       "      <th>0</th>\n",
       "      <td>0.592593</td>\n",
       "      <td>0.75</td>\n",
       "      <td>-0.110236</td>\n",
       "      <td>-0.092308</td>\n",
       "      <td>0.9375</td>\n",
       "    </tr>\n",
       "    <tr>\n",
       "      <th>1</th>\n",
       "      <td>-1.333333</td>\n",
       "      <td>0.00</td>\n",
       "      <td>0.157480</td>\n",
       "      <td>1.046154</td>\n",
       "      <td>1.6875</td>\n",
       "    </tr>\n",
       "    <tr>\n",
       "      <th>2</th>\n",
       "      <td>-1.037037</td>\n",
       "      <td>0.00</td>\n",
       "      <td>-0.566929</td>\n",
       "      <td>0.584615</td>\n",
       "      <td>0.3750</td>\n",
       "    </tr>\n",
       "    <tr>\n",
       "      <th>3</th>\n",
       "      <td>0.074074</td>\n",
       "      <td>-0.50</td>\n",
       "      <td>-0.062992</td>\n",
       "      <td>0.769231</td>\n",
       "      <td>0.0000</td>\n",
       "    </tr>\n",
       "    <tr>\n",
       "      <th>4</th>\n",
       "      <td>0.148148</td>\n",
       "      <td>-0.50</td>\n",
       "      <td>1.795276</td>\n",
       "      <td>0.307692</td>\n",
       "      <td>-0.1250</td>\n",
       "    </tr>\n",
       "    <tr>\n",
       "      <th>...</th>\n",
       "      <td>...</td>\n",
       "      <td>...</td>\n",
       "      <td>...</td>\n",
       "      <td>...</td>\n",
       "      <td>...</td>\n",
       "    </tr>\n",
       "    <tr>\n",
       "      <th>298</th>\n",
       "      <td>0.148148</td>\n",
       "      <td>0.50</td>\n",
       "      <td>0.015748</td>\n",
       "      <td>-0.923077</td>\n",
       "      <td>-0.3750</td>\n",
       "    </tr>\n",
       "    <tr>\n",
       "      <th>299</th>\n",
       "      <td>-0.740741</td>\n",
       "      <td>-1.00</td>\n",
       "      <td>0.377953</td>\n",
       "      <td>-0.646154</td>\n",
       "      <td>0.2500</td>\n",
       "    </tr>\n",
       "    <tr>\n",
       "      <th>300</th>\n",
       "      <td>0.962963</td>\n",
       "      <td>0.70</td>\n",
       "      <td>-0.740157</td>\n",
       "      <td>-0.369231</td>\n",
       "      <td>1.6250</td>\n",
       "    </tr>\n",
       "    <tr>\n",
       "      <th>301</th>\n",
       "      <td>0.148148</td>\n",
       "      <td>0.00</td>\n",
       "      <td>-1.716535</td>\n",
       "      <td>-1.169231</td>\n",
       "      <td>0.2500</td>\n",
       "    </tr>\n",
       "    <tr>\n",
       "      <th>302</th>\n",
       "      <td>0.148148</td>\n",
       "      <td>0.00</td>\n",
       "      <td>-0.062992</td>\n",
       "      <td>0.646154</td>\n",
       "      <td>-0.5000</td>\n",
       "    </tr>\n",
       "  </tbody>\n",
       "</table>\n",
       "<p>303 rows × 5 columns</p>\n",
       "</div>"
      ],
      "text/plain": [
       "          age  trtbps      chol  thalachh  oldpeak\n",
       "0    0.592593    0.75 -0.110236 -0.092308   0.9375\n",
       "1   -1.333333    0.00  0.157480  1.046154   1.6875\n",
       "2   -1.037037    0.00 -0.566929  0.584615   0.3750\n",
       "3    0.074074   -0.50 -0.062992  0.769231   0.0000\n",
       "4    0.148148   -0.50  1.795276  0.307692  -0.1250\n",
       "..        ...     ...       ...       ...      ...\n",
       "298  0.148148    0.50  0.015748 -0.923077  -0.3750\n",
       "299 -0.740741   -1.00  0.377953 -0.646154   0.2500\n",
       "300  0.962963    0.70 -0.740157 -0.369231   1.6250\n",
       "301  0.148148    0.00 -1.716535 -1.169231   0.2500\n",
       "302  0.148148    0.00 -0.062992  0.646154  -0.5000\n",
       "\n",
       "[303 rows x 5 columns]"
      ]
     },
     "execution_count": 17,
     "metadata": {},
     "output_type": "execute_result"
    }
   ],
   "source": [
    "data_scaled"
   ]
  },
  {
   "cell_type": "code",
   "execution_count": 18,
   "id": "85ed2024",
   "metadata": {},
   "outputs": [],
   "source": [
    "data_new2=pd.concat([data_scaled,df[categorical_var]],axis=1)"
   ]
  },
  {
   "cell_type": "code",
   "execution_count": 19,
   "id": "4d5ad3e0",
   "metadata": {},
   "outputs": [
    {
     "data": {
      "text/html": [
       "<div>\n",
       "<style scoped>\n",
       "    .dataframe tbody tr th:only-of-type {\n",
       "        vertical-align: middle;\n",
       "    }\n",
       "\n",
       "    .dataframe tbody tr th {\n",
       "        vertical-align: top;\n",
       "    }\n",
       "\n",
       "    .dataframe thead th {\n",
       "        text-align: right;\n",
       "    }\n",
       "</style>\n",
       "<table border=\"1\" class=\"dataframe\">\n",
       "  <thead>\n",
       "    <tr style=\"text-align: right;\">\n",
       "      <th></th>\n",
       "      <th>age</th>\n",
       "      <th>trtbps</th>\n",
       "      <th>chol</th>\n",
       "      <th>thalachh</th>\n",
       "      <th>oldpeak</th>\n",
       "      <th>sex</th>\n",
       "      <th>cp</th>\n",
       "      <th>fbs</th>\n",
       "      <th>restecg</th>\n",
       "      <th>exng</th>\n",
       "      <th>slp</th>\n",
       "      <th>caa</th>\n",
       "      <th>thall</th>\n",
       "      <th>output</th>\n",
       "    </tr>\n",
       "  </thead>\n",
       "  <tbody>\n",
       "    <tr>\n",
       "      <th>0</th>\n",
       "      <td>0.592593</td>\n",
       "      <td>0.75</td>\n",
       "      <td>-0.110236</td>\n",
       "      <td>-0.092308</td>\n",
       "      <td>0.9375</td>\n",
       "      <td>1</td>\n",
       "      <td>3</td>\n",
       "      <td>1</td>\n",
       "      <td>0</td>\n",
       "      <td>0</td>\n",
       "      <td>0</td>\n",
       "      <td>0</td>\n",
       "      <td>1</td>\n",
       "      <td>1</td>\n",
       "    </tr>\n",
       "    <tr>\n",
       "      <th>1</th>\n",
       "      <td>-1.333333</td>\n",
       "      <td>0.00</td>\n",
       "      <td>0.157480</td>\n",
       "      <td>1.046154</td>\n",
       "      <td>1.6875</td>\n",
       "      <td>1</td>\n",
       "      <td>2</td>\n",
       "      <td>0</td>\n",
       "      <td>1</td>\n",
       "      <td>0</td>\n",
       "      <td>0</td>\n",
       "      <td>0</td>\n",
       "      <td>2</td>\n",
       "      <td>1</td>\n",
       "    </tr>\n",
       "    <tr>\n",
       "      <th>2</th>\n",
       "      <td>-1.037037</td>\n",
       "      <td>0.00</td>\n",
       "      <td>-0.566929</td>\n",
       "      <td>0.584615</td>\n",
       "      <td>0.3750</td>\n",
       "      <td>0</td>\n",
       "      <td>1</td>\n",
       "      <td>0</td>\n",
       "      <td>0</td>\n",
       "      <td>0</td>\n",
       "      <td>2</td>\n",
       "      <td>0</td>\n",
       "      <td>2</td>\n",
       "      <td>1</td>\n",
       "    </tr>\n",
       "    <tr>\n",
       "      <th>3</th>\n",
       "      <td>0.074074</td>\n",
       "      <td>-0.50</td>\n",
       "      <td>-0.062992</td>\n",
       "      <td>0.769231</td>\n",
       "      <td>0.0000</td>\n",
       "      <td>1</td>\n",
       "      <td>1</td>\n",
       "      <td>0</td>\n",
       "      <td>1</td>\n",
       "      <td>0</td>\n",
       "      <td>2</td>\n",
       "      <td>0</td>\n",
       "      <td>2</td>\n",
       "      <td>1</td>\n",
       "    </tr>\n",
       "    <tr>\n",
       "      <th>4</th>\n",
       "      <td>0.148148</td>\n",
       "      <td>-0.50</td>\n",
       "      <td>1.795276</td>\n",
       "      <td>0.307692</td>\n",
       "      <td>-0.1250</td>\n",
       "      <td>0</td>\n",
       "      <td>0</td>\n",
       "      <td>0</td>\n",
       "      <td>1</td>\n",
       "      <td>1</td>\n",
       "      <td>2</td>\n",
       "      <td>0</td>\n",
       "      <td>2</td>\n",
       "      <td>1</td>\n",
       "    </tr>\n",
       "    <tr>\n",
       "      <th>...</th>\n",
       "      <td>...</td>\n",
       "      <td>...</td>\n",
       "      <td>...</td>\n",
       "      <td>...</td>\n",
       "      <td>...</td>\n",
       "      <td>...</td>\n",
       "      <td>...</td>\n",
       "      <td>...</td>\n",
       "      <td>...</td>\n",
       "      <td>...</td>\n",
       "      <td>...</td>\n",
       "      <td>...</td>\n",
       "      <td>...</td>\n",
       "      <td>...</td>\n",
       "    </tr>\n",
       "    <tr>\n",
       "      <th>298</th>\n",
       "      <td>0.148148</td>\n",
       "      <td>0.50</td>\n",
       "      <td>0.015748</td>\n",
       "      <td>-0.923077</td>\n",
       "      <td>-0.3750</td>\n",
       "      <td>0</td>\n",
       "      <td>0</td>\n",
       "      <td>0</td>\n",
       "      <td>1</td>\n",
       "      <td>1</td>\n",
       "      <td>1</td>\n",
       "      <td>0</td>\n",
       "      <td>3</td>\n",
       "      <td>0</td>\n",
       "    </tr>\n",
       "    <tr>\n",
       "      <th>299</th>\n",
       "      <td>-0.740741</td>\n",
       "      <td>-1.00</td>\n",
       "      <td>0.377953</td>\n",
       "      <td>-0.646154</td>\n",
       "      <td>0.2500</td>\n",
       "      <td>1</td>\n",
       "      <td>3</td>\n",
       "      <td>0</td>\n",
       "      <td>1</td>\n",
       "      <td>0</td>\n",
       "      <td>1</td>\n",
       "      <td>0</td>\n",
       "      <td>3</td>\n",
       "      <td>0</td>\n",
       "    </tr>\n",
       "    <tr>\n",
       "      <th>300</th>\n",
       "      <td>0.962963</td>\n",
       "      <td>0.70</td>\n",
       "      <td>-0.740157</td>\n",
       "      <td>-0.369231</td>\n",
       "      <td>1.6250</td>\n",
       "      <td>1</td>\n",
       "      <td>0</td>\n",
       "      <td>1</td>\n",
       "      <td>1</td>\n",
       "      <td>0</td>\n",
       "      <td>1</td>\n",
       "      <td>2</td>\n",
       "      <td>3</td>\n",
       "      <td>0</td>\n",
       "    </tr>\n",
       "    <tr>\n",
       "      <th>301</th>\n",
       "      <td>0.148148</td>\n",
       "      <td>0.00</td>\n",
       "      <td>-1.716535</td>\n",
       "      <td>-1.169231</td>\n",
       "      <td>0.2500</td>\n",
       "      <td>1</td>\n",
       "      <td>0</td>\n",
       "      <td>0</td>\n",
       "      <td>1</td>\n",
       "      <td>1</td>\n",
       "      <td>1</td>\n",
       "      <td>1</td>\n",
       "      <td>3</td>\n",
       "      <td>0</td>\n",
       "    </tr>\n",
       "    <tr>\n",
       "      <th>302</th>\n",
       "      <td>0.148148</td>\n",
       "      <td>0.00</td>\n",
       "      <td>-0.062992</td>\n",
       "      <td>0.646154</td>\n",
       "      <td>-0.5000</td>\n",
       "      <td>0</td>\n",
       "      <td>1</td>\n",
       "      <td>0</td>\n",
       "      <td>0</td>\n",
       "      <td>0</td>\n",
       "      <td>1</td>\n",
       "      <td>1</td>\n",
       "      <td>2</td>\n",
       "      <td>0</td>\n",
       "    </tr>\n",
       "  </tbody>\n",
       "</table>\n",
       "<p>303 rows × 14 columns</p>\n",
       "</div>"
      ],
      "text/plain": [
       "          age  trtbps      chol  thalachh  oldpeak  sex  cp  fbs  restecg  \\\n",
       "0    0.592593    0.75 -0.110236 -0.092308   0.9375    1   3    1        0   \n",
       "1   -1.333333    0.00  0.157480  1.046154   1.6875    1   2    0        1   \n",
       "2   -1.037037    0.00 -0.566929  0.584615   0.3750    0   1    0        0   \n",
       "3    0.074074   -0.50 -0.062992  0.769231   0.0000    1   1    0        1   \n",
       "4    0.148148   -0.50  1.795276  0.307692  -0.1250    0   0    0        1   \n",
       "..        ...     ...       ...       ...      ...  ...  ..  ...      ...   \n",
       "298  0.148148    0.50  0.015748 -0.923077  -0.3750    0   0    0        1   \n",
       "299 -0.740741   -1.00  0.377953 -0.646154   0.2500    1   3    0        1   \n",
       "300  0.962963    0.70 -0.740157 -0.369231   1.6250    1   0    1        1   \n",
       "301  0.148148    0.00 -1.716535 -1.169231   0.2500    1   0    0        1   \n",
       "302  0.148148    0.00 -0.062992  0.646154  -0.5000    0   1    0        0   \n",
       "\n",
       "     exng  slp  caa  thall  output  \n",
       "0       0    0    0      1       1  \n",
       "1       0    0    0      2       1  \n",
       "2       0    2    0      2       1  \n",
       "3       0    2    0      2       1  \n",
       "4       1    2    0      2       1  \n",
       "..    ...  ...  ...    ...     ...  \n",
       "298     1    1    0      3       0  \n",
       "299     0    1    0      3       0  \n",
       "300     0    1    2      3       0  \n",
       "301     1    1    1      3       0  \n",
       "302     0    1    1      2       0  \n",
       "\n",
       "[303 rows x 14 columns]"
      ]
     },
     "execution_count": 19,
     "metadata": {},
     "output_type": "execute_result"
    }
   ],
   "source": [
    "data_new2"
   ]
  },
  {
   "cell_type": "code",
   "execution_count": 20,
   "id": "a689215e",
   "metadata": {},
   "outputs": [],
   "source": [
    "# heatmap over the data"
   ]
  },
  {
   "cell_type": "code",
   "execution_count": 21,
   "id": "183957c7",
   "metadata": {},
   "outputs": [
    {
     "data": {
      "text/plain": [
       "<AxesSubplot:>"
      ]
     },
     "execution_count": 21,
     "metadata": {},
     "output_type": "execute_result"
    },
    {
     "data": {
      "image/png": "[encoded data removed]",
      "text/plain": [
       "<Figure size 1080x720 with 2 Axes>"
      ]
     },
     "metadata": {
      "needs_background": "light"
     },
     "output_type": "display_data"
    }
   ],
   "source": [
    "plt.figure(figsize=(15,10))\n",
    "sns.heatmap(data_new2.corr())"
   ]
  },
  {
   "cell_type": "code",
   "execution_count": 22,
   "id": "99d53acc",
   "metadata": {},
   "outputs": [
    {
     "data": {
      "text/plain": [
       "<AxesSubplot:>"
      ]
     },
     "execution_count": 22,
     "metadata": {},
     "output_type": "execute_result"
    },
    {
     "data": {
      "image/png": "[encoded data removed]",
      "text/plain": [
       "<Figure size 1080x720 with 2 Axes>"
      ]
     },
     "metadata": {
      "needs_background": "light"
     },
     "output_type": "display_data"
    }
   ],
   "source": [
    "plt.figure(figsize=(15,10))\n",
    "sns.heatmap(data=data_new2.corr(),cmap='Spectral',annot=True,linewidth=0.5)"
   ]
  },
  {
   "cell_type": "code",
   "execution_count": 23,
   "id": "ffdc3611",
   "metadata": {},
   "outputs": [],
   "source": [
    "# chol\n",
    "# fbs\n",
    "# retecg"
   ]
  },
  {
   "cell_type": "code",
   "execution_count": 24,
   "id": "94957fc1",
   "metadata": {},
   "outputs": [],
   "source": [
    "def correlation(dataset,threshold):\n",
    "    col_corr=set()\n",
    "# set of all the correlated columns \n",
    "    corr_matrix=data_new2.corr()\n",
    "    for i in range(len(corr_matrix.columns)):\n",
    "        for j in range(i):\n",
    "            if abs (corr_matrix.iloc[i,j])>threshold:# we are interested in absalute coeff value\n",
    "                colname=corr_matrix.columns[i]# getting  the name of columns\n",
    "                col_corr.add(colname)\n",
    "    return col_corr           "
   ]
  },
  {
   "cell_type": "code",
   "execution_count": 25,
   "id": "1fc215eb",
   "metadata": {},
   "outputs": [],
   "source": [
    "corr_features=correlation(data_new2,0.5)"
   ]
  },
  {
   "cell_type": "code",
   "execution_count": 26,
   "id": "9a6bb317",
   "metadata": {},
   "outputs": [
    {
     "data": {
      "text/plain": [
       "1"
      ]
     },
     "execution_count": 26,
     "metadata": {},
     "output_type": "execute_result"
    }
   ],
   "source": [
    "len(set(corr_features))"
   ]
  },
  {
   "cell_type": "code",
   "execution_count": 27,
   "id": "a7b03acf",
   "metadata": {},
   "outputs": [
    {
     "data": {
      "text/plain": [
       "{'slp'}"
      ]
     },
     "execution_count": 27,
     "metadata": {},
     "output_type": "execute_result"
    }
   ],
   "source": [
    "corr_features"
   ]
  },
  {
   "cell_type": "code",
   "execution_count": 28,
   "id": "c2031da2",
   "metadata": {},
   "outputs": [],
   "source": [
    "data_new2.drop(['slp'],axis=1,inplace=True)"
   ]
  },
  {
   "cell_type": "code",
   "execution_count": 30,
   "id": "12c24213",
   "metadata": {},
   "outputs": [
    {
     "data": {
      "image/png": "[encoded data removed]",
      "text/plain": [
       "<Figure size 1080x720 with 1 Axes>"
      ]
     },
     "metadata": {
      "needs_background": "light"
     },
     "output_type": "display_data"
    }
   ],
   "source": [
    "plt.figure(figsize=(15,10))\n",
    "\n",
    "plt.boxplot(data_new2[['trtbps','oldpeak','age','thalachh']])\n",
    "\n",
    "plt.show()"
   ]
  },
  {
   "cell_type": "code",
   "execution_count": 31,
   "id": "cc3c1a09",
   "metadata": {},
   "outputs": [
    {
     "data": {
      "image/png": "[encoded data removed]",
      "text/plain": [
       "<Figure size 1080x720 with 1 Axes>"
      ]
     },
     "metadata": {
      "needs_background": "light"
     },
     "output_type": "display_data"
    }
   ],
   "source": [
    "plt.figure(figsize=(15,10))\n",
    "plt.hist(data_new2.trtbps,bins=20,width=0.8)\n",
    "plt.xlabel('trtbps')\n",
    "plt.show()"
   ]
  },
  {
   "cell_type": "code",
   "execution_count": 32,
   "id": "0d7547ce",
   "metadata": {},
   "outputs": [
    {
     "data": {
      "image/png": "[encoded data removed]",
      "text/plain": [
       "<Figure size 1080x720 with 1 Axes>"
      ]
     },
     "metadata": {
      "needs_background": "light"
     },
     "output_type": "display_data"
    }
   ],
   "source": [
    "plt.figure(figsize=(15,10))\n",
    "plt.hist(data_new2['oldpeak'],bins=20,width=0.8)\n",
    "plt.xlabel('oldpeak')\n",
    "plt.show()"
   ]
  },
  {
   "cell_type": "code",
   "execution_count": 33,
   "id": "7d5062e9",
   "metadata": {},
   "outputs": [
    {
     "data": {
      "image/png": "[encoded data removed]",
      "text/plain": [
       "<Figure size 720x360 with 1 Axes>"
      ]
     },
     "metadata": {
      "needs_background": "light"
     },
     "output_type": "display_data"
    }
   ],
   "source": [
    "plt.figure(figsize=(10,5))\n",
    "plt.hist(data_new2['age'],bins=20,width=0.8)\n",
    "plt.xlabel('age')\n",
    "plt.show()"
   ]
  },
  {
   "cell_type": "code",
   "execution_count": 34,
   "id": "930085b4",
   "metadata": {},
   "outputs": [
    {
     "data": {
      "image/png": "[encoded data removed]",
      "text/plain": [
       "<Figure size 720x360 with 1 Axes>"
      ]
     },
     "metadata": {
      "needs_background": "light"
     },
     "output_type": "display_data"
    }
   ],
   "source": [
    "plt.figure(figsize=(10,5))\n",
    "plt.hist(data_new2['thalachh'],bins=20,width=0.8)\n",
    "plt.xlabel('thalachh')\n",
    "plt.show()"
   ]
  },
  {
   "cell_type": "code",
   "execution_count": 35,
   "id": "a601cabb",
   "metadata": {},
   "outputs": [],
   "source": [
    "def zscore_outlier(x,lb,ub):\n",
    "    zscore=((x-x.mean())/x.std()).copy()\n",
    "    result_=pd.series([0]*len(x))\n",
    "    result_[((zscore<lb)|(zscore.ub))]=1\n",
    "    return_results_"
   ]
  },
  {
   "cell_type": "code",
   "execution_count": 43,
   "id": "942b17e1",
   "metadata": {},
   "outputs": [],
   "source": [
    "upper =data_new2.age.mean()+3*data_new2.age.std()\n",
    "lower =data_new2.age.mean()-3*data_new2.age.std()\n",
    "upper_trtbps =data_new2.trtbps.mean()+3*data_new2.trtbps.std()\n",
    "lower_trtbps =data_new2.trtbps.mean()-3*data_new2.trtbps.std()\n",
    "upper_chol =data_new2.chol.mean()+3*data_new2.chol.std()\n",
    "lower_chol =data_new2.chol.mean()-3*data_new2.chol.std()\n",
    "upper_thalachh =data_new2.thalachh.mean()+3*data_new2.thalachh.std()\n",
    "lower_thalachh =data_new2.thalachh.mean()-3*data_new2.thalachh.std()\n",
    "upper_oldpeak =data_new2.oldpeak.mean()+3*data_new2.oldpeak.std()\n",
    "lower_oldpeak =data_new2.oldpeak.mean()-3*data_new2.sex.std()\n",
    "upper_sex =data_new2.oldpeak.mean()+3*data_new2.sex.std()\n",
    "lower_sex =data_new2.oldpeak.mean()-3*data_new2.oldpeak.std()\n",
    "upper_cp =data_new2.oldpeak.mean()+3*data_new2.cp.std()\n",
    "lower_cp =data_new2.oldpeak.mean()-3*data_new2.cp.std()\n",
    "upper_fbs =data_new2.oldpeak.mean()+3*data_new2.fbs.std()\n",
    "lower_fbs =data_new2.oldpeak.mean()-3*data_new2.fbs.std()\n",
    "upper_exng =data_new2.oldpeak.mean()+3*data_new2.exng.std()\n",
    "lower_exng =data_new2.oldpeak.mean()-3*data_new2.exng.std()\n",
    "upper_caa =data_new2.oldpeak.mean()+3*data_new2.caa.std()\n",
    "lower_caa =data_new2.oldpeak.mean()-3*data_new2.caa.std()\n",
    "upper_thall =data_new2.oldpeak.mean()+3*data_new2.thall.std()\n",
    "lower_thall =data_new2.oldpeak.mean()-3*data_new2.thall.std()\n",
    "upper_restecg =data_new2.oldpeak.mean()+3*data_new2.restecg.std()\n",
    "lower_restecg =data_new2.oldpeak.mean()-3*data_new2.restecg.std()\n",
    "upper_output =data_new2.oldpeak.mean()+3*data_new2.output.std()\n",
    "lower_output =data_new2.oldpeak.mean()-3*data_new2.output.std()"
   ]
  },
  {
   "cell_type": "code",
   "execution_count": 44,
   "id": "0269744c",
   "metadata": {},
   "outputs": [
    {
     "data": {
      "text/plain": [
       "1.9713066372723647"
      ]
     },
     "execution_count": 44,
     "metadata": {},
     "output_type": "execute_result"
    }
   ],
   "source": [
    "upper"
   ]
  },
  {
   "cell_type": "code",
   "execution_count": 45,
   "id": "3320a7a1",
   "metadata": {},
   "outputs": [
    {
     "data": {
      "text/plain": [
       "-2.065182691544458"
      ]
     },
     "execution_count": 45,
     "metadata": {},
     "output_type": "execute_result"
    }
   ],
   "source": [
    "lower"
   ]
  },
  {
   "cell_type": "code",
   "execution_count": 46,
   "id": "2e734f8d",
   "metadata": {},
   "outputs": [],
   "source": [
    "#removing those outlier\n",
    "data_new3=data_new2[(data_new2.age<upper_age)&(data_new2.age>lower_age)]"
   ]
  },
  {
   "cell_type": "code",
   "execution_count": 47,
   "id": "f9a187d1",
   "metadata": {},
   "outputs": [
    {
     "data": {
      "text/html": [
       "<div>\n",
       "<style scoped>\n",
       "    .dataframe tbody tr th:only-of-type {\n",
       "        vertical-align: middle;\n",
       "    }\n",
       "\n",
       "    .dataframe tbody tr th {\n",
       "        vertical-align: top;\n",
       "    }\n",
       "\n",
       "    .dataframe thead th {\n",
       "        text-align: right;\n",
       "    }\n",
       "</style>\n",
       "<table border=\"1\" class=\"dataframe\">\n",
       "  <thead>\n",
       "    <tr style=\"text-align: right;\">\n",
       "      <th></th>\n",
       "      <th>age</th>\n",
       "      <th>trtbps</th>\n",
       "      <th>chol</th>\n",
       "      <th>thalachh</th>\n",
       "      <th>oldpeak</th>\n",
       "      <th>sex</th>\n",
       "      <th>cp</th>\n",
       "      <th>fbs</th>\n",
       "      <th>restecg</th>\n",
       "      <th>exng</th>\n",
       "      <th>caa</th>\n",
       "      <th>thall</th>\n",
       "      <th>output</th>\n",
       "    </tr>\n",
       "  </thead>\n",
       "  <tbody>\n",
       "    <tr>\n",
       "      <th>0</th>\n",
       "      <td>0.592593</td>\n",
       "      <td>0.75</td>\n",
       "      <td>-0.110236</td>\n",
       "      <td>-0.092308</td>\n",
       "      <td>0.9375</td>\n",
       "      <td>1</td>\n",
       "      <td>3</td>\n",
       "      <td>1</td>\n",
       "      <td>0</td>\n",
       "      <td>0</td>\n",
       "      <td>0</td>\n",
       "      <td>1</td>\n",
       "      <td>1</td>\n",
       "    </tr>\n",
       "    <tr>\n",
       "      <th>1</th>\n",
       "      <td>-1.333333</td>\n",
       "      <td>0.00</td>\n",
       "      <td>0.157480</td>\n",
       "      <td>1.046154</td>\n",
       "      <td>1.6875</td>\n",
       "      <td>1</td>\n",
       "      <td>2</td>\n",
       "      <td>0</td>\n",
       "      <td>1</td>\n",
       "      <td>0</td>\n",
       "      <td>0</td>\n",
       "      <td>2</td>\n",
       "      <td>1</td>\n",
       "    </tr>\n",
       "    <tr>\n",
       "      <th>2</th>\n",
       "      <td>-1.037037</td>\n",
       "      <td>0.00</td>\n",
       "      <td>-0.566929</td>\n",
       "      <td>0.584615</td>\n",
       "      <td>0.3750</td>\n",
       "      <td>0</td>\n",
       "      <td>1</td>\n",
       "      <td>0</td>\n",
       "      <td>0</td>\n",
       "      <td>0</td>\n",
       "      <td>0</td>\n",
       "      <td>2</td>\n",
       "      <td>1</td>\n",
       "    </tr>\n",
       "    <tr>\n",
       "      <th>3</th>\n",
       "      <td>0.074074</td>\n",
       "      <td>-0.50</td>\n",
       "      <td>-0.062992</td>\n",
       "      <td>0.769231</td>\n",
       "      <td>0.0000</td>\n",
       "      <td>1</td>\n",
       "      <td>1</td>\n",
       "      <td>0</td>\n",
       "      <td>1</td>\n",
       "      <td>0</td>\n",
       "      <td>0</td>\n",
       "      <td>2</td>\n",
       "      <td>1</td>\n",
       "    </tr>\n",
       "    <tr>\n",
       "      <th>4</th>\n",
       "      <td>0.148148</td>\n",
       "      <td>-0.50</td>\n",
       "      <td>1.795276</td>\n",
       "      <td>0.307692</td>\n",
       "      <td>-0.1250</td>\n",
       "      <td>0</td>\n",
       "      <td>0</td>\n",
       "      <td>0</td>\n",
       "      <td>1</td>\n",
       "      <td>1</td>\n",
       "      <td>0</td>\n",
       "      <td>2</td>\n",
       "      <td>1</td>\n",
       "    </tr>\n",
       "    <tr>\n",
       "      <th>...</th>\n",
       "      <td>...</td>\n",
       "      <td>...</td>\n",
       "      <td>...</td>\n",
       "      <td>...</td>\n",
       "      <td>...</td>\n",
       "      <td>...</td>\n",
       "      <td>...</td>\n",
       "      <td>...</td>\n",
       "      <td>...</td>\n",
       "      <td>...</td>\n",
       "      <td>...</td>\n",
       "      <td>...</td>\n",
       "      <td>...</td>\n",
       "    </tr>\n",
       "    <tr>\n",
       "      <th>298</th>\n",
       "      <td>0.148148</td>\n",
       "      <td>0.50</td>\n",
       "      <td>0.015748</td>\n",
       "      <td>-0.923077</td>\n",
       "      <td>-0.3750</td>\n",
       "      <td>0</td>\n",
       "      <td>0</td>\n",
       "      <td>0</td>\n",
       "      <td>1</td>\n",
       "      <td>1</td>\n",
       "      <td>0</td>\n",
       "      <td>3</td>\n",
       "      <td>0</td>\n",
       "    </tr>\n",
       "    <tr>\n",
       "      <th>299</th>\n",
       "      <td>-0.740741</td>\n",
       "      <td>-1.00</td>\n",
       "      <td>0.377953</td>\n",
       "      <td>-0.646154</td>\n",
       "      <td>0.2500</td>\n",
       "      <td>1</td>\n",
       "      <td>3</td>\n",
       "      <td>0</td>\n",
       "      <td>1</td>\n",
       "      <td>0</td>\n",
       "      <td>0</td>\n",
       "      <td>3</td>\n",
       "      <td>0</td>\n",
       "    </tr>\n",
       "    <tr>\n",
       "      <th>300</th>\n",
       "      <td>0.962963</td>\n",
       "      <td>0.70</td>\n",
       "      <td>-0.740157</td>\n",
       "      <td>-0.369231</td>\n",
       "      <td>1.6250</td>\n",
       "      <td>1</td>\n",
       "      <td>0</td>\n",
       "      <td>1</td>\n",
       "      <td>1</td>\n",
       "      <td>0</td>\n",
       "      <td>2</td>\n",
       "      <td>3</td>\n",
       "      <td>0</td>\n",
       "    </tr>\n",
       "    <tr>\n",
       "      <th>301</th>\n",
       "      <td>0.148148</td>\n",
       "      <td>0.00</td>\n",
       "      <td>-1.716535</td>\n",
       "      <td>-1.169231</td>\n",
       "      <td>0.2500</td>\n",
       "      <td>1</td>\n",
       "      <td>0</td>\n",
       "      <td>0</td>\n",
       "      <td>1</td>\n",
       "      <td>1</td>\n",
       "      <td>1</td>\n",
       "      <td>3</td>\n",
       "      <td>0</td>\n",
       "    </tr>\n",
       "    <tr>\n",
       "      <th>302</th>\n",
       "      <td>0.148148</td>\n",
       "      <td>0.00</td>\n",
       "      <td>-0.062992</td>\n",
       "      <td>0.646154</td>\n",
       "      <td>-0.5000</td>\n",
       "      <td>0</td>\n",
       "      <td>1</td>\n",
       "      <td>0</td>\n",
       "      <td>0</td>\n",
       "      <td>0</td>\n",
       "      <td>1</td>\n",
       "      <td>2</td>\n",
       "      <td>0</td>\n",
       "    </tr>\n",
       "  </tbody>\n",
       "</table>\n",
       "<p>303 rows × 13 columns</p>\n",
       "</div>"
      ],
      "text/plain": [
       "          age  trtbps      chol  thalachh  oldpeak  sex  cp  fbs  restecg  \\\n",
       "0    0.592593    0.75 -0.110236 -0.092308   0.9375    1   3    1        0   \n",
       "1   -1.333333    0.00  0.157480  1.046154   1.6875    1   2    0        1   \n",
       "2   -1.037037    0.00 -0.566929  0.584615   0.3750    0   1    0        0   \n",
       "3    0.074074   -0.50 -0.062992  0.769231   0.0000    1   1    0        1   \n",
       "4    0.148148   -0.50  1.795276  0.307692  -0.1250    0   0    0        1   \n",
       "..        ...     ...       ...       ...      ...  ...  ..  ...      ...   \n",
       "298  0.148148    0.50  0.015748 -0.923077  -0.3750    0   0    0        1   \n",
       "299 -0.740741   -1.00  0.377953 -0.646154   0.2500    1   3    0        1   \n",
       "300  0.962963    0.70 -0.740157 -0.369231   1.6250    1   0    1        1   \n",
       "301  0.148148    0.00 -1.716535 -1.169231   0.2500    1   0    0        1   \n",
       "302  0.148148    0.00 -0.062992  0.646154  -0.5000    0   1    0        0   \n",
       "\n",
       "     exng  caa  thall  output  \n",
       "0       0    0      1       1  \n",
       "1       0    0      2       1  \n",
       "2       0    0      2       1  \n",
       "3       0    0      2       1  \n",
       "4       1    0      2       1  \n",
       "..    ...  ...    ...     ...  \n",
       "298     1    0      3       0  \n",
       "299     0    0      3       0  \n",
       "300     0    2      3       0  \n",
       "301     1    1      3       0  \n",
       "302     0    1      2       0  \n",
       "\n",
       "[303 rows x 13 columns]"
      ]
     },
     "execution_count": 47,
     "metadata": {},
     "output_type": "execute_result"
    }
   ],
   "source": [
    "data_new3"
   ]
  },
  {
   "cell_type": "code",
   "execution_count": 48,
   "id": "113fa70b",
   "metadata": {},
   "outputs": [],
   "source": [
    "#how we cap our data"
   ]
  },
  {
   "cell_type": "code",
   "execution_count": 49,
   "id": "e1befdb3",
   "metadata": {},
   "outputs": [],
   "source": [
    "data_new2['age']=np.where(\n",
    "            data_new2['age']>upper,\n",
    "            upper,\n",
    "            np.where(\n",
    "                data_new2['age']<lower,\n",
    "                lower,\n",
    "                data_new2['age']\n",
    "            )\n",
    " )"
   ]
  },
  {
   "cell_type": "code",
   "execution_count": 50,
   "id": "6870de08",
   "metadata": {},
   "outputs": [],
   "source": [
    "upper_all=data_new2.mean()+3*data_new2.std()\n",
    "lower_all=data_new2.mean()-3*data_new2.std()"
   ]
  },
  {
   "cell_type": "code",
   "execution_count": 51,
   "id": "23e751f8",
   "metadata": {},
   "outputs": [
    {
     "data": {
      "text/plain": [
       "age         1.971307\n",
       "trtbps      2.711910\n",
       "chol        2.547343\n",
       "thalachh    2.011149\n",
       "oldpeak     2.326768\n",
       "sex         2.081201\n",
       "cp          4.063154\n",
       "fbs         1.217108\n",
       "restecg     2.105632\n",
       "exng        1.736116\n",
       "caa         3.797192\n",
       "thall       4.150361\n",
       "output      2.041059\n",
       "dtype: float64"
      ]
     },
     "execution_count": 51,
     "metadata": {},
     "output_type": "execute_result"
    }
   ],
   "source": [
    "upper_all"
   ]
  },
  {
   "cell_type": "code",
   "execution_count": 52,
   "id": "5a3cb045",
   "metadata": {},
   "outputs": [
    {
     "data": {
      "text/plain": [
       "age        -2.065183\n",
       "trtbps     -2.549533\n",
       "chol       -2.350051\n",
       "thalachh   -2.217496\n",
       "oldpeak    -2.027263\n",
       "sex        -0.714864\n",
       "cp         -2.129161\n",
       "fbs        -0.920079\n",
       "restecg    -1.049526\n",
       "exng       -1.082651\n",
       "caa        -2.338446\n",
       "thall       0.476702\n",
       "output     -0.951950\n",
       "dtype: float64"
      ]
     },
     "execution_count": 52,
     "metadata": {},
     "output_type": "execute_result"
    }
   ],
   "source": [
    "lower_all"
   ]
  },
  {
   "cell_type": "code",
   "execution_count": null,
   "id": "0d386e2b",
   "metadata": {},
   "outputs": [],
   "source": []
  }
 ],
 "metadata": {
  "kernelspec": {
   "display_name": "Python 3 (ipykernel)",
   "language": "python",
   "name": "python3"
  },
  "language_info": {
   "codemirror_mode": {
    "name": "ipython",
    "version": 3
   },
   "file_extension": ".py",
   "mimetype": "text/x-python",
   "name": "python",
   "nbconvert_exporter": "python",
   "pygments_lexer": "ipython3",
   "version": "3.9.7"
  }
 },
 "nbformat": 4,
 "nbformat_minor": 5
}
